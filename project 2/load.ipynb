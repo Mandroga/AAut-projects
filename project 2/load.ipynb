{
 "cells": [
  {
   "cell_type": "code",
   "execution_count": 2,
   "id": "5efefedf",
   "metadata": {},
   "outputs": [],
   "source": [
    "%run data_imports.ipynb"
   ]
  },
  {
   "cell_type": "code",
   "execution_count": 4,
   "id": "dd57dc83",
   "metadata": {},
   "outputs": [
    {
     "name": "stdout",
     "output_type": "stream",
     "text": [
      "(700, 2)\n"
     ]
    }
   ],
   "source": [
    "path = \"Xtrain1.pkl\"\n",
    "with open(path, \"rb\") as f:\n",
    "    X = pickle.load(f)\n",
    "\n",
    "print(X.shape)"
   ]
  },
  {
   "cell_type": "code",
   "execution_count": 5,
   "id": "73a6b862",
   "metadata": {},
   "outputs": [
    {
     "name": "stdout",
     "output_type": "stream",
     "text": [
      "(700,)\n"
     ]
    }
   ],
   "source": [
    "import numpy as np\n",
    "\n",
    "# load the array\n",
    "Y= np.load(\"Ytrain1.npy\")\n",
    "\n",
    "print(Y.shape)\n"
   ]
  },
  {
   "cell_type": "code",
   "execution_count": null,
   "id": "91d7e736",
   "metadata": {},
   "outputs": [],
   "source": [
    "PatientIds = X[\"PatientID\"].values\n"
   ]
  }
 ],
 "metadata": {
  "kernelspec": {
   "display_name": "Python 3",
   "language": "python",
   "name": "python3"
  },
  "language_info": {
   "codemirror_mode": {
    "name": "ipython",
    "version": 3
   },
   "file_extension": ".py",
   "mimetype": "text/x-python",
   "name": "python",
   "nbconvert_exporter": "python",
   "pygments_lexer": "ipython3",
   "version": "3.13.7"
  }
 },
 "nbformat": 4,
 "nbformat_minor": 5
}
